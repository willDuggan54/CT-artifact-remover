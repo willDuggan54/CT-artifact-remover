{
  "nbformat": 4,
  "nbformat_minor": 0,
  "metadata": {
    "colab": {
      "name": "ErrorCalculator.ipynb",
      "provenance": []
    },
    "kernelspec": {
      "display_name": "Python 3",
      "name": "python3"
    },
    "language_info": {
      "name": "python"
    }
  },
  "cells": [
    {
      "cell_type": "code",
      "metadata": {
        "id": "j6Hl7Tva7A4Y"
      },
      "source": [
        "import tensorflow as tf\n",
        "import numpy as np\n",
        "from skimage import metrics\n",
        "from skimage.metrics import structural_similarity as ssim\n",
        "from skimage import data\n",
        "from skimage import img_as_float\n",
        "from google.colab import drive\n",
        "import cv2\n",
        "#from PIL import Image\n",
        "import matplotlib.pyplot as plt"
      ],
      "execution_count": null,
      "outputs": []
    },
    {
      "cell_type": "code",
      "metadata": {
        "id": "GD0B2VZye_Ui"
      },
      "source": [
        "from google.colab import drive\n",
        "drive.mount('/content/drive')"
      ],
      "execution_count": null,
      "outputs": []
    },
    {
      "cell_type": "markdown",
      "metadata": {
        "id": "6awt_mlTqUQZ"
      },
      "source": [
        "**Loading the Test Dataset**"
      ]
    },
    {
      "cell_type": "code",
      "metadata": {
        "id": "IE95jY0Oplda"
      },
      "source": [
        "path = '/content/drive/MyDrive/GAN_Data/testData/truth'\n",
        "path2 = '/content/drive/MyDrive/GAN_Data/testData/artifacted_10x'\n",
        "BATCH_SIZE = 1\n",
        "\n",
        "#####Preprocessing#####\n",
        "def load_image(image):\n",
        "  image = tf.io.read_file(image)\n",
        "  image = tf.image.decode_png(image)\n",
        "  image = tf.cast(image, tf.float32)\n",
        "  return image\n",
        "\n",
        "def normalize(image):\n",
        "  image = (image/127.5)-1\n",
        "  return image\n",
        "\n",
        "def preprocess(image):\n",
        "  image = load_image(image)\n",
        "  image = normalize(image)\n",
        "  return image\n",
        "\n",
        "def crop(image_a, image_t):\n",
        "  combined_image = tf.concat([image_a, image_t], axis=0)\n",
        "  cropped = tf.image.random_crop(combined_image, size=[2, 512, 512, 1])\n",
        "  return cropped[0], cropped[1]\n",
        "\n",
        "def resize(image_a, image_t):\n",
        "  image_a = tf.image.resize(images=image_a, size=[542,542], method=tf.image.ResizeMethod.NEAREST_NEIGHBOR)\n",
        "  image_t = tf.image.resize(images=image_t, size=[542,542], method=tf.image.ResizeMethod.NEAREST_NEIGHBOR)\n",
        "  return image_a, image_t\n",
        "\n",
        "def random_jittering(image_a, image_t):\n",
        "  image_a, image_t = resize(image_a, image_t)\n",
        "  image_a, image_t = crop(image_a, image_t)\n",
        "  if (tf.random.uniform(shape=[1]) >= 0.5):\n",
        "    image_a = tf.image.flip_left_right(image_a)\n",
        "    image_t = tf.image.flip_left_right(image_t)\n",
        "  return image_a, image_t\n",
        "\n",
        "truth_dataset = tf.data.Dataset.list_files(path + '/*.png', shuffle=False)\n",
        "truth_dataset = truth_dataset.map(preprocess, num_parallel_calls=tf.data.AUTOTUNE)\n",
        "truth_dataset = truth_dataset.batch(BATCH_SIZE)\n",
        "\n",
        "artifact_dataset = tf.data.Dataset.list_files(path2 + '/*.png', shuffle=False)\n",
        "artifact_dataset = artifact_dataset.map(preprocess, num_parallel_calls=tf.data.AUTOTUNE)\n",
        "artifact_dataset = artifact_dataset.batch(BATCH_SIZE)"
      ],
      "execution_count": null,
      "outputs": []
    },
    {
      "cell_type": "markdown",
      "metadata": {
        "id": "1nIHtcon5_q-"
      },
      "source": [
        "**Importing the Model**"
      ]
    },
    {
      "cell_type": "code",
      "metadata": {
        "id": "P8MhegNv6DxW"
      },
      "source": [
        "model_path = '/content/drive/MyDrive/GAN_Data/Models/PAN_test/PAN_e160.h5'\n",
        "generator = tf.keras.models.load_model(model_path)"
      ],
      "execution_count": null,
      "outputs": []
    },
    {
      "cell_type": "markdown",
      "metadata": {
        "id": "IBzUqah16lsB"
      },
      "source": [
        "**Iterate through the images**"
      ]
    },
    {
      "cell_type": "code",
      "metadata": {
        "id": "5iG5C7Oi6sk9"
      },
      "source": [
        "def saveImages(artifact, truth, num):\n",
        "  art_out.save('Gen_'+ str(count)+'.png')\n",
        "  files.download('Gen_'+ str(count)+'.png')\n",
        "  tru_out.save('Truth_'+ str(count) + '.png')\n",
        "  files.download('Truth_'+ str(count) + '.png')      "
      ],
      "execution_count": null,
      "outputs": []
    },
    {
      "cell_type": "markdown",
      "metadata": {
        "id": "jOI02l4nWyxb"
      },
      "source": [
        "**Denormalize Image**"
      ]
    },
    {
      "cell_type": "code",
      "metadata": {
        "id": "xaK5KEwGW3Kd"
      },
      "source": [
        "def denormalize(gen_image, a_images, t_images):\n",
        "  gen_image = tf.reshape(gen_image, (512,512))\n",
        "  gen_image = ((gen_image+1)/2)*255\n",
        "  gen_image = np.array(gen_image, dtype=np.uint8)\n",
        "  gen_out = gen_image\n",
        "  '''\n",
        "  for i in np.nditer(gen_image):\n",
        "    generated_inten.append(i)\n",
        "  '''\n",
        "\n",
        "  a_images = tf.reshape(a_images, (512,512))\n",
        "  a_images = ((a_images+1)/2)*255\n",
        "  a_images = np.array(a_images, dtype=np.uint8)\n",
        "  art_out = a_images\n",
        "\n",
        "  t_images = tf.reshape(t_images, (512,512))\n",
        "  t_images = ((t_images+1)/2)*255\n",
        "  t_images = np.array(t_images, dtype=np.uint8)\n",
        "  tru_out = t_images\n",
        "  '''\n",
        "  for i in np.nditer(t_images):\n",
        "    truth_inten.append(i)\n",
        "  '''\n",
        "\n",
        "  return gen_out, art_out, tru_out"
      ],
      "execution_count": null,
      "outputs": []
    },
    {
      "cell_type": "markdown",
      "metadata": {
        "id": "29alYKMcXiN6"
      },
      "source": [
        "**Similar Structure Function**"
      ]
    },
    {
      "cell_type": "code",
      "metadata": {
        "id": "T3SkSFN4XmF6"
      },
      "source": [
        "def similarStructure(artifact, truth, gen):\n",
        "  artifact = img_as_float(artifact)\n",
        "  truth = img_as_float(truth)\n",
        "  gen = img_as_float(gen)\n",
        "  mse_tru = metrics.mean_squared_error(truth, truth)\n",
        "  mse_at = metrics.mean_squared_error(truth, artifact)\n",
        "  mse_gen = metrics.mean_squared_error(truth, gen)\n",
        "  ssim_t = ssim(truth, truth)\n",
        "  ssim_at = ssim(truth, artifact)\n",
        "  ssim_gen = ssim(truth, gen)\n",
        "  psnr_gen = metrics.peak_signal_noise_ratio(truth, gen)\n",
        "  psnr_tru = metrics.peak_signal_noise_ratio(truth, truth)\n",
        "  psnr_at = metrics.peak_signal_noise_ratio(truth, artifact)\n",
        "  ssim_scores.append(ssim_gen)\n",
        "  mse_scores.append(mse_gen)\n",
        "  psnr_scores.append(psnr_gen)\n",
        "\n",
        "  fig, axs = plt.subplots(nrows = 1, ncols = 3, figsize = (15, 6))\n",
        "  axes = axs.ravel()\n",
        "  label = 'MSE: {:.2f}, SSIM: {:.2f}, PSNR: {:.2f}'\n",
        "\n",
        "  axes[0].imshow(truth, cmap='gray')\n",
        "  axes[0].set_xlabel(label.format(mse_tru, ssim_t, psnr_tru))\n",
        "  axes[0].set_title('Ground Truth')\n",
        "\n",
        "  axes[1].imshow(artifact, cmap='gray')\n",
        "  axes[1].set_xlabel(label.format(mse_at, ssim_at, psnr_at))\n",
        "  axes[1].set_title('Artifact')\n",
        "\n",
        "  axes[2].imshow(gen, cmap='gray')\n",
        "  axes[2].set_xlabel(label.format(mse_gen, ssim_gen, psnr_gen))\n",
        "  axes[2].set_title('Generated')\n",
        "  plt.show()\n"
      ],
      "execution_count": null,
      "outputs": []
    },
    {
      "cell_type": "code",
      "metadata": {
        "id": "M2YzyMgUsWQN"
      },
      "source": [
        "def plot_hist(truth, generated):\n",
        "  bins = []\n",
        "  i = 0\n",
        "  while i != 256:\n",
        "    bins.append(i)\n",
        "    i = i+16\n",
        "  plt.hist(truth, bins=bins)\n",
        "  plt.show()\n",
        "  plt.hist(generated, bins=bins)\n",
        "  plt.show()"
      ],
      "execution_count": null,
      "outputs": []
    },
    {
      "cell_type": "markdown",
      "metadata": {
        "id": "ShSZigIUcHO0"
      },
      "source": [
        "**Main Loop**"
      ]
    },
    {
      "cell_type": "code",
      "metadata": {
        "id": "BDk7PpkfcJia"
      },
      "source": [
        "ssim_scores = []\n",
        "mse_scores = []\n",
        "psnr_scores = []\n",
        "generated_inten = []\n",
        "truth_inten = []\n",
        "for a_images, t_images in zip(artifact_dataset, truth_dataset):\n",
        "  #a_images, t_images = random_jittering(a_images, t_images)\n",
        "  '''\n",
        "  a_images = tf.reshape(a_images, shape=[1, 512, 512, 1])\n",
        "  t_images = tf.reshape(t_images, shape=[1, 512, 512, 1])\n",
        "  '''\n",
        "  gen_images = generator(a_images)\n",
        "  gen, artifact, truth = denormalize(gen_images, a_images, t_images)\n",
        "  similarStructure(artifact, truth, gen)\n",
        "#plot_hist(truth_inten, generated_inten)\n",
        "length = len(ssim_scores)\n",
        "sum_num = np.sum(ssim_scores)\n",
        "print('Average SSIM Score: ' + str(sum_num/length))\n",
        "sum_num = np.sum(mse_scores)\n",
        "print('Average MSE Score: ' + str(sum_num/length))\n",
        "sum_num = np.sum(psnr_scores)\n",
        "print('Average PSNR Score: ' + str(sum_num/length))\n"
      ],
      "execution_count": null,
      "outputs": []
    }
  ]
}
